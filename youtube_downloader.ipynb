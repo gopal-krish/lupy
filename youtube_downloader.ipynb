#youtube_downloader
#project_made_using_PYCHARM
import pip
import pytube as pytube
from pytube import YouTube
YouTube('https://www.youtube.com/watch?v=ZiioPiJI50c').stream.first().download()